{
  "nbformat": 4,
  "nbformat_minor": 0,
  "metadata": {
    "colab": {
      "provenance": []
    },
    "kernelspec": {
      "name": "python3",
      "display_name": "Python 3"
    },
    "language_info": {
      "name": "python"
    }
  },
  "cells": [
    {
      "cell_type": "markdown",
      "source": [
        "The original dataset is from https://www.kaggle.com/datasets/shivamb/netflix-shows."
      ],
      "metadata": {
        "id": "A5KUd4YDp4b2"
      }
    },
    {
      "cell_type": "code",
      "execution_count": null,
      "metadata": {
        "id": "GUX1oLBubWCs"
      },
      "outputs": [],
      "source": [
        "import pandas as pd\n",
        "\n",
        "modified_movies_df = (\n",
        "    pd.read_csv(\"/content/movies.csv\")\n",
        "    .query(\"type == 'Movie'\")\n",
        "    .dropna(subset=['title', 'director', 'date_added', 'duration'])\n",
        "    .assign(\n",
        "        movie_id=lambda x: range(1, len(x) + 1),\n",
        "        release_date=lambda x: pd.to_datetime(x['date_added']).dt.strftime('%-m/%-d/%Y'),\n",
        "        duration=lambda x: x['duration'].str.extract('(\\d+)')[0]\n",
        "    )[['movie_id', 'title', 'director', 'release_date', 'duration']]\n",
        ")\n",
        "\n",
        "modified_movies_df.to_csv(\"modified_movies.csv\", index=False)"
      ]
    }
  ]
}